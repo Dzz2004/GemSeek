{
 "cells": [
  {
   "cell_type": "code",
   "execution_count": 1,
   "id": "e91db1a8",
   "metadata": {},
   "outputs": [],
   "source": [
    "import kagglehub\n",
    "import pandas as pd\n",
    "import json\n",
    "import tqdm"
   ]
  },
  {
   "cell_type": "code",
   "execution_count": 4,
   "id": "8ea71a33",
   "metadata": {},
   "outputs": [],
   "source": [
    "bussiness_star_counts = {} # business_id -> star_count"
   ]
  },
  {
   "cell_type": "code",
   "execution_count": 3,
   "id": "a72a49c1",
   "metadata": {},
   "outputs": [
    {
     "name": "stdout",
     "output_type": "stream",
     "text": [
      "Warning: Looks like you're using an outdated `kagglehub` version, please consider updating (latest version: 0.3.11)\n",
      "/home/dzz/.cache/kagglehub/datasets/yelp-dataset/yelp-dataset/versions/4/yelp_academic_dataset_review.json\n"
     ]
    }
   ],
   "source": [
    "# Download latest version\n",
    "path = kagglehub.dataset_download(\"yelp-dataset/yelp-dataset\")\n",
    "# Load the dataset\n",
    "review_path = path + \"/yelp_academic_dataset_review.json\"\n",
    "print(review_path)"
   ]
  },
  {
   "cell_type": "code",
   "execution_count": 5,
   "id": "9cc9e49a",
   "metadata": {},
   "outputs": [
    {
     "name": "stderr",
     "output_type": "stream",
     "text": [
      "Processing reviews: 100%|██████████| 6990280/6990280 [00:50<00:00, 137399.41it/s] \n"
     ]
    }
   ],
   "source": [
    "open_file = open(review_path, \"r\", encoding=\"utf-8\")\n",
    "# Read the file line by line\n",
    "for line in tqdm.tqdm(open_file, desc=\"Processing reviews\", total=6990280):\n",
    "    # Parse the JSON object\n",
    "    review = json.loads(line)\n",
    "    # Extract the business_id and stars\n",
    "    business_id = review[\"business_id\"]\n",
    "    stars = review[\"stars\"]\n",
    "    # Update the dictionary with the star count\n",
    "    if business_id not in bussiness_star_counts:\n",
    "        bussiness_star_counts[business_id] = 0\n",
    "    bussiness_star_counts[business_id] += stars"
   ]
  },
  {
   "cell_type": "code",
   "execution_count": 6,
   "id": "3f213d6a",
   "metadata": {},
   "outputs": [],
   "source": [
    "business_star_counts_df = pd.DataFrame.from_dict(bussiness_star_counts, orient=\"index\", columns=[\"star_count\"])\n",
    "business_star_counts_df.index.name = \"business_id\"\n",
    "# sort\n",
    "business_star_counts_df.sort_values(by=\"star_count\", ascending=False, inplace=True)\n",
    "business_star_counts_df.reset_index(inplace=True)\n",
    "# Save the DataFrame to a CSV file\n",
    "business_star_counts_df.to_csv(\"business_star_counts.csv\", index=False)"
   ]
  }
 ],
 "metadata": {
  "kernelspec": {
   "display_name": "dzz",
   "language": "python",
   "name": "python3"
  },
  "language_info": {
   "codemirror_mode": {
    "name": "ipython",
    "version": 3
   },
   "file_extension": ".py",
   "mimetype": "text/x-python",
   "name": "python",
   "nbconvert_exporter": "python",
   "pygments_lexer": "ipython3",
   "version": "3.11.11"
  }
 },
 "nbformat": 4,
 "nbformat_minor": 5
}
